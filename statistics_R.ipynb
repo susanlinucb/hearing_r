{
 "cells": [
  {
   "cell_type": "code",
   "execution_count": 1,
   "metadata": {},
   "outputs": [
    {
     "data": {
      "text/html": [
       "<table>\n",
       "<caption>A data.frame: 6 × 7</caption>\n",
       "<thead>\n",
       "\t<tr><th scope=col>X</th><th scope=col>region</th><th scope=col>ResponseId</th><th scope=col>type</th><th scope=col>r_ness</th><th scope=col>r_spelling</th><th scope=col>r_heard</th></tr>\n",
       "\t<tr><th scope=col>&lt;int&gt;</th><th scope=col>&lt;int&gt;</th><th scope=col>&lt;fct&gt;</th><th scope=col>&lt;fct&gt;</th><th scope=col>&lt;fct&gt;</th><th scope=col>&lt;dbl&gt;</th><th scope=col>&lt;dbl&gt;</th></tr>\n",
       "</thead>\n",
       "<tbody>\n",
       "\t<tr><td>0</td><td>1</td><td>R_1N5rQgL96iuxnGj</td><td>Phrase</td><td>full   </td><td>1.857143</td><td>0.14285714</td></tr>\n",
       "\t<tr><td>1</td><td>1</td><td>R_1N5rQgL96iuxnGj</td><td>Phrase</td><td>none   </td><td>1.562500</td><td>0.31250000</td></tr>\n",
       "\t<tr><td>2</td><td>1</td><td>R_1N5rQgL96iuxnGj</td><td>Phrase</td><td>partial</td><td>1.545455</td><td>0.45454545</td></tr>\n",
       "\t<tr><td>3</td><td>1</td><td>R_1N5rQgL96iuxnGj</td><td>Word  </td><td>full   </td><td>1.833333</td><td>1.00000000</td></tr>\n",
       "\t<tr><td>4</td><td>1</td><td>R_1N5rQgL96iuxnGj</td><td>Word  </td><td>none   </td><td>1.588235</td><td>0.05882353</td></tr>\n",
       "\t<tr><td>5</td><td>1</td><td>R_1N5rQgL96iuxnGj</td><td>Word  </td><td>partial</td><td>1.545455</td><td>0.54545455</td></tr>\n",
       "</tbody>\n",
       "</table>\n"
      ],
      "text/latex": [
       "A data.frame: 6 × 7\n",
       "\\begin{tabular}{r|lllllll}\n",
       " X & region & ResponseId & type & r\\_ness & r\\_spelling & r\\_heard\\\\\n",
       " <int> & <int> & <fct> & <fct> & <fct> & <dbl> & <dbl>\\\\\n",
       "\\hline\n",
       "\t 0 & 1 & R\\_1N5rQgL96iuxnGj & Phrase & full    & 1.857143 & 0.14285714\\\\\n",
       "\t 1 & 1 & R\\_1N5rQgL96iuxnGj & Phrase & none    & 1.562500 & 0.31250000\\\\\n",
       "\t 2 & 1 & R\\_1N5rQgL96iuxnGj & Phrase & partial & 1.545455 & 0.45454545\\\\\n",
       "\t 3 & 1 & R\\_1N5rQgL96iuxnGj & Word   & full    & 1.833333 & 1.00000000\\\\\n",
       "\t 4 & 1 & R\\_1N5rQgL96iuxnGj & Word   & none    & 1.588235 & 0.05882353\\\\\n",
       "\t 5 & 1 & R\\_1N5rQgL96iuxnGj & Word   & partial & 1.545455 & 0.54545455\\\\\n",
       "\\end{tabular}\n"
      ],
      "text/markdown": [
       "\n",
       "A data.frame: 6 × 7\n",
       "\n",
       "| X &lt;int&gt; | region &lt;int&gt; | ResponseId &lt;fct&gt; | type &lt;fct&gt; | r_ness &lt;fct&gt; | r_spelling &lt;dbl&gt; | r_heard &lt;dbl&gt; |\n",
       "|---|---|---|---|---|---|---|\n",
       "| 0 | 1 | R_1N5rQgL96iuxnGj | Phrase | full    | 1.857143 | 0.14285714 |\n",
       "| 1 | 1 | R_1N5rQgL96iuxnGj | Phrase | none    | 1.562500 | 0.31250000 |\n",
       "| 2 | 1 | R_1N5rQgL96iuxnGj | Phrase | partial | 1.545455 | 0.45454545 |\n",
       "| 3 | 1 | R_1N5rQgL96iuxnGj | Word   | full    | 1.833333 | 1.00000000 |\n",
       "| 4 | 1 | R_1N5rQgL96iuxnGj | Word   | none    | 1.588235 | 0.05882353 |\n",
       "| 5 | 1 | R_1N5rQgL96iuxnGj | Word   | partial | 1.545455 | 0.54545455 |\n",
       "\n"
      ],
      "text/plain": [
       "  X region ResponseId        type   r_ness  r_spelling r_heard   \n",
       "1 0 1      R_1N5rQgL96iuxnGj Phrase full    1.857143   0.14285714\n",
       "2 1 1      R_1N5rQgL96iuxnGj Phrase none    1.562500   0.31250000\n",
       "3 2 1      R_1N5rQgL96iuxnGj Phrase partial 1.545455   0.45454545\n",
       "4 3 1      R_1N5rQgL96iuxnGj Word   full    1.833333   1.00000000\n",
       "5 4 1      R_1N5rQgL96iuxnGj Word   none    1.588235   0.05882353\n",
       "6 5 1      R_1N5rQgL96iuxnGj Word   partial 1.545455   0.54545455"
      ]
     },
     "metadata": {},
     "output_type": "display_data"
    }
   ],
   "source": [
    "data=read.csv('./results.csv')\n",
    "head(data)"
   ]
  },
  {
   "cell_type": "code",
   "execution_count": 2,
   "metadata": {},
   "outputs": [
    {
     "data": {
      "text/html": [
       "<table>\n",
       "<caption>A data.frame: 6 × 7</caption>\n",
       "<thead>\n",
       "\t<tr><th scope=col>X</th><th scope=col>region</th><th scope=col>ResponseId</th><th scope=col>type</th><th scope=col>r_ness</th><th scope=col>r_spelling</th><th scope=col>r_heard</th></tr>\n",
       "\t<tr><th scope=col>&lt;int&gt;</th><th scope=col>&lt;fct&gt;</th><th scope=col>&lt;fct&gt;</th><th scope=col>&lt;fct&gt;</th><th scope=col>&lt;fct&gt;</th><th scope=col>&lt;dbl&gt;</th><th scope=col>&lt;dbl&gt;</th></tr>\n",
       "</thead>\n",
       "<tbody>\n",
       "\t<tr><td>0</td><td>1</td><td>R_1N5rQgL96iuxnGj</td><td>Phrase</td><td>full   </td><td>1.857143</td><td>0.14285714</td></tr>\n",
       "\t<tr><td>1</td><td>1</td><td>R_1N5rQgL96iuxnGj</td><td>Phrase</td><td>none   </td><td>1.562500</td><td>0.31250000</td></tr>\n",
       "\t<tr><td>2</td><td>1</td><td>R_1N5rQgL96iuxnGj</td><td>Phrase</td><td>partial</td><td>1.545455</td><td>0.45454545</td></tr>\n",
       "\t<tr><td>3</td><td>1</td><td>R_1N5rQgL96iuxnGj</td><td>Word  </td><td>full   </td><td>1.833333</td><td>1.00000000</td></tr>\n",
       "\t<tr><td>4</td><td>1</td><td>R_1N5rQgL96iuxnGj</td><td>Word  </td><td>none   </td><td>1.588235</td><td>0.05882353</td></tr>\n",
       "\t<tr><td>5</td><td>1</td><td>R_1N5rQgL96iuxnGj</td><td>Word  </td><td>partial</td><td>1.545455</td><td>0.54545455</td></tr>\n",
       "</tbody>\n",
       "</table>\n"
      ],
      "text/latex": [
       "A data.frame: 6 × 7\n",
       "\\begin{tabular}{r|lllllll}\n",
       " X & region & ResponseId & type & r\\_ness & r\\_spelling & r\\_heard\\\\\n",
       " <int> & <fct> & <fct> & <fct> & <fct> & <dbl> & <dbl>\\\\\n",
       "\\hline\n",
       "\t 0 & 1 & R\\_1N5rQgL96iuxnGj & Phrase & full    & 1.857143 & 0.14285714\\\\\n",
       "\t 1 & 1 & R\\_1N5rQgL96iuxnGj & Phrase & none    & 1.562500 & 0.31250000\\\\\n",
       "\t 2 & 1 & R\\_1N5rQgL96iuxnGj & Phrase & partial & 1.545455 & 0.45454545\\\\\n",
       "\t 3 & 1 & R\\_1N5rQgL96iuxnGj & Word   & full    & 1.833333 & 1.00000000\\\\\n",
       "\t 4 & 1 & R\\_1N5rQgL96iuxnGj & Word   & none    & 1.588235 & 0.05882353\\\\\n",
       "\t 5 & 1 & R\\_1N5rQgL96iuxnGj & Word   & partial & 1.545455 & 0.54545455\\\\\n",
       "\\end{tabular}\n"
      ],
      "text/markdown": [
       "\n",
       "A data.frame: 6 × 7\n",
       "\n",
       "| X &lt;int&gt; | region &lt;fct&gt; | ResponseId &lt;fct&gt; | type &lt;fct&gt; | r_ness &lt;fct&gt; | r_spelling &lt;dbl&gt; | r_heard &lt;dbl&gt; |\n",
       "|---|---|---|---|---|---|---|\n",
       "| 0 | 1 | R_1N5rQgL96iuxnGj | Phrase | full    | 1.857143 | 0.14285714 |\n",
       "| 1 | 1 | R_1N5rQgL96iuxnGj | Phrase | none    | 1.562500 | 0.31250000 |\n",
       "| 2 | 1 | R_1N5rQgL96iuxnGj | Phrase | partial | 1.545455 | 0.45454545 |\n",
       "| 3 | 1 | R_1N5rQgL96iuxnGj | Word   | full    | 1.833333 | 1.00000000 |\n",
       "| 4 | 1 | R_1N5rQgL96iuxnGj | Word   | none    | 1.588235 | 0.05882353 |\n",
       "| 5 | 1 | R_1N5rQgL96iuxnGj | Word   | partial | 1.545455 | 0.54545455 |\n",
       "\n"
      ],
      "text/plain": [
       "  X region ResponseId        type   r_ness  r_spelling r_heard   \n",
       "1 0 1      R_1N5rQgL96iuxnGj Phrase full    1.857143   0.14285714\n",
       "2 1 1      R_1N5rQgL96iuxnGj Phrase none    1.562500   0.31250000\n",
       "3 2 1      R_1N5rQgL96iuxnGj Phrase partial 1.545455   0.45454545\n",
       "4 3 1      R_1N5rQgL96iuxnGj Word   full    1.833333   1.00000000\n",
       "5 4 1      R_1N5rQgL96iuxnGj Word   none    1.588235   0.05882353\n",
       "6 5 1      R_1N5rQgL96iuxnGj Word   partial 1.545455   0.54545455"
      ]
     },
     "metadata": {},
     "output_type": "display_data"
    }
   ],
   "source": [
    "data$region<-as.factor(data$region)\n",
    "head(data)"
   ]
  },
  {
   "cell_type": "code",
   "execution_count": 3,
   "metadata": {},
   "outputs": [
    {
     "data": {
      "text/plain": [
       "                    Df Sum Sq Mean Sq F value Pr(>F)    \n",
       "region               8  0.182   0.023   1.476  0.166    \n",
       "type                 1  2.776   2.776 180.567 <2e-16 ***\n",
       "r_ness               2  2.501   1.251  81.342 <2e-16 ***\n",
       "region:type          8  0.178   0.022   1.444  0.178    \n",
       "region:r_ness       16  0.272   0.017   1.106  0.349    \n",
       "type:r_ness          2  6.699   3.349 217.845 <2e-16 ***\n",
       "region:type:r_ness  16  0.408   0.026   1.660  0.054 .  \n",
       "Residuals          276  4.243   0.015                   \n",
       "---\n",
       "Signif. codes:  0 ‘***’ 0.001 ‘**’ 0.01 ‘*’ 0.05 ‘.’ 0.1 ‘ ’ 1"
      ]
     },
     "metadata": {},
     "output_type": "display_data"
    }
   ],
   "source": [
    "summary(aov(r_heard~region*type*r_ness,data))"
   ]
  },
  {
   "cell_type": "code",
   "execution_count": 4,
   "metadata": {},
   "outputs": [],
   "source": [
    "library(plyr)"
   ]
  },
  {
   "cell_type": "code",
   "execution_count": 5,
   "metadata": {},
   "outputs": [
    {
     "data": {
      "text/html": [
       "<table>\n",
       "<caption>A data.frame: 6 × 3</caption>\n",
       "<thead>\n",
       "\t<tr><th scope=col>r_ness</th><th scope=col>type</th><th scope=col>r_heard</th></tr>\n",
       "\t<tr><th scope=col>&lt;fct&gt;</th><th scope=col>&lt;fct&gt;</th><th scope=col>&lt;dbl&gt;</th></tr>\n",
       "</thead>\n",
       "<tbody>\n",
       "\t<tr><td>full   </td><td>Phrase</td><td>0.3220779</td></tr>\n",
       "\t<tr><td>full   </td><td>Word  </td><td>0.9060606</td></tr>\n",
       "\t<tr><td>none   </td><td>Phrase</td><td>0.4284091</td></tr>\n",
       "\t<tr><td>none   </td><td>Word  </td><td>0.3732620</td></tr>\n",
       "\t<tr><td>partial</td><td>Phrase</td><td>0.4942149</td></tr>\n",
       "\t<tr><td>partial</td><td>Word  </td><td>0.5157025</td></tr>\n",
       "</tbody>\n",
       "</table>\n"
      ],
      "text/latex": [
       "A data.frame: 6 × 3\n",
       "\\begin{tabular}{r|lll}\n",
       " r\\_ness & type & r\\_heard\\\\\n",
       " <fct> & <fct> & <dbl>\\\\\n",
       "\\hline\n",
       "\t full    & Phrase & 0.3220779\\\\\n",
       "\t full    & Word   & 0.9060606\\\\\n",
       "\t none    & Phrase & 0.4284091\\\\\n",
       "\t none    & Word   & 0.3732620\\\\\n",
       "\t partial & Phrase & 0.4942149\\\\\n",
       "\t partial & Word   & 0.5157025\\\\\n",
       "\\end{tabular}\n"
      ],
      "text/markdown": [
       "\n",
       "A data.frame: 6 × 3\n",
       "\n",
       "| r_ness &lt;fct&gt; | type &lt;fct&gt; | r_heard &lt;dbl&gt; |\n",
       "|---|---|---|\n",
       "| full    | Phrase | 0.3220779 |\n",
       "| full    | Word   | 0.9060606 |\n",
       "| none    | Phrase | 0.4284091 |\n",
       "| none    | Word   | 0.3732620 |\n",
       "| partial | Phrase | 0.4942149 |\n",
       "| partial | Word   | 0.5157025 |\n",
       "\n"
      ],
      "text/plain": [
       "  r_ness  type   r_heard  \n",
       "1 full    Phrase 0.3220779\n",
       "2 full    Word   0.9060606\n",
       "3 none    Phrase 0.4284091\n",
       "4 none    Word   0.3732620\n",
       "5 partial Phrase 0.4942149\n",
       "6 partial Word   0.5157025"
      ]
     },
     "metadata": {},
     "output_type": "display_data"
    }
   ],
   "source": [
    "ddply(data,.(r_ness,type),summarize,r_heard=mean(r_heard))"
   ]
  },
  {
   "cell_type": "code",
   "execution_count": 22,
   "metadata": {},
   "outputs": [
    {
     "data": {
      "text/plain": [
       "  Tukey multiple comparisons of means\n",
       "    95% family-wise confidence level\n",
       "\n",
       "Fit: aov(formula = r_heard ~ type * r_ness, data = data)\n",
       "\n",
       "$type\n",
       "                 diff       lwr       upr p adj\n",
       "Word-Phrase 0.1834411 0.1557832 0.2110989     0\n",
       "\n",
       "$r_ness\n",
       "                   diff         lwr         upr p adj\n",
       "none-full    -0.2132337 -0.25377487 -0.17269254     0\n",
       "partial-full -0.1091106 -0.14965175 -0.06856942     0\n",
       "partial-none  0.1041231  0.06358195  0.14466428     0\n",
       "\n",
       "$`type:r_ness`\n",
       "                                   diff          lwr         upr     p adj\n",
       "Word:full-Phrase:full        0.58398268  0.514173571  0.65379180 0.0000000\n",
       "Phrase:none-Phrase:full      0.10633117  0.036522056  0.17614028 0.0002444\n",
       "Word:none-Phrase:full        0.05118411 -0.018625003  0.12099322 0.2888158\n",
       "Phrase:partial-Phrase:full   0.17213695  0.102327841  0.24194607 0.0000000\n",
       "Word:partial-Phrase:full     0.19362456  0.123815444  0.26343367 0.0000000\n",
       "Phrase:none-Word:full       -0.47765152 -0.547460628 -0.40784240 0.0000000\n",
       "Word:none-Word:full         -0.53279857 -0.602607687 -0.46298946 0.0000000\n",
       "Phrase:partial-Word:full    -0.41184573 -0.481654843 -0.34203662 0.0000000\n",
       "Word:partial-Word:full      -0.39035813 -0.460167240 -0.32054901 0.0000000\n",
       "Word:none-Phrase:none       -0.05514706 -0.124956172  0.01466205 0.2117083\n",
       "Phrase:partial-Phrase:none   0.06580579 -0.004003328  0.13561490 0.0774914\n",
       "Word:partial-Phrase:none     0.08729339  0.017484275  0.15710250 0.0051815\n",
       "Phrase:partial-Word:none     0.12095284  0.051143731  0.19076196 0.0000162\n",
       "Word:partial-Word:none       0.14244045  0.072631334  0.21224956 0.0000002\n",
       "Word:partial-Phrase:partial  0.02148760 -0.048321510  0.09129672 0.9505314\n"
      ]
     },
     "metadata": {},
     "output_type": "display_data"
    }
   ],
   "source": [
    "TukeyHSD(aov(r_heard~type*r_ness,data))"
   ]
  }
 ],
 "metadata": {
  "kernelspec": {
   "display_name": "R",
   "language": "R",
   "name": "ir"
  },
  "language_info": {
   "codemirror_mode": "r",
   "file_extension": ".r",
   "mimetype": "text/x-r-source",
   "name": "R",
   "pygments_lexer": "r",
   "version": "3.4.4"
  }
 },
 "nbformat": 4,
 "nbformat_minor": 2
}
